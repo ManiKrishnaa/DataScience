{
 "cells": [
  {
   "cell_type": "markdown",
   "id": "ff9db355",
   "metadata": {},
   "source": [
    "- Descriptive statistics refers to a branch of statistics that involves summarizing, organizing, and presenting data meaningfully and concisely. \n",
    "- It focuses on describing and analyzing a dataset's main features and characteristics without making any generalizations or inferences to a larger population.\n",
    "- The primary goal of descriptive statistics is to provide a clear and concise summary of the data, enabling researchers or analysts to gain insights and understand patterns, trends, and distributions within the dataset\n",
    "- the list of descriptive stastics are : "
   ]
  },
  {
   "cell_type": "markdown",
   "id": "80716ca3",
   "metadata": {},
   "source": [
    "# mean"
   ]
  },
  {
   "cell_type": "markdown",
   "id": "8d5b3bed",
   "metadata": {},
   "source": [
    "The arithmetic average of a set of values. It's calculated by summing up all values and dividing by the number of values."
   ]
  },
  {
   "cell_type": "code",
   "execution_count": 10,
   "id": "cff6c103",
   "metadata": {},
   "outputs": [
    {
     "data": {
      "text/html": [
       "<div>\n",
       "<style scoped>\n",
       "    .dataframe tbody tr th:only-of-type {\n",
       "        vertical-align: middle;\n",
       "    }\n",
       "\n",
       "    .dataframe tbody tr th {\n",
       "        vertical-align: top;\n",
       "    }\n",
       "\n",
       "    .dataframe thead th {\n",
       "        text-align: right;\n",
       "    }\n",
       "</style>\n",
       "<table border=\"1\" class=\"dataframe\">\n",
       "  <thead>\n",
       "    <tr style=\"text-align: right;\">\n",
       "      <th></th>\n",
       "      <th>0</th>\n",
       "    </tr>\n",
       "  </thead>\n",
       "  <tbody>\n",
       "    <tr>\n",
       "      <th>0</th>\n",
       "      <td>50</td>\n",
       "    </tr>\n",
       "    <tr>\n",
       "      <th>1</th>\n",
       "      <td>40</td>\n",
       "    </tr>\n",
       "    <tr>\n",
       "      <th>2</th>\n",
       "      <td>30</td>\n",
       "    </tr>\n",
       "    <tr>\n",
       "      <th>3</th>\n",
       "      <td>70</td>\n",
       "    </tr>\n",
       "    <tr>\n",
       "      <th>4</th>\n",
       "      <td>50</td>\n",
       "    </tr>\n",
       "  </tbody>\n",
       "</table>\n",
       "</div>"
      ],
      "text/plain": [
       "    0\n",
       "0  50\n",
       "1  40\n",
       "2  30\n",
       "3  70\n",
       "4  50"
      ]
     },
     "execution_count": 10,
     "metadata": {},
     "output_type": "execute_result"
    }
   ],
   "source": [
    "import pandas as pd\n",
    "x = [50,40,30,70,50]\n",
    "df = pd.DataFrame(x)\n",
    "df"
   ]
  },
  {
   "cell_type": "code",
   "execution_count": 11,
   "id": "31344a21",
   "metadata": {},
   "outputs": [
    {
     "data": {
      "text/plain": [
       "0    48.0\n",
       "dtype: float64"
      ]
     },
     "execution_count": 11,
     "metadata": {},
     "output_type": "execute_result"
    }
   ],
   "source": [
    "df.mean() # therefore mean of the column is 3.0"
   ]
  },
  {
   "cell_type": "markdown",
   "id": "2feced66",
   "metadata": {},
   "source": [
    "# median"
   ]
  },
  {
   "cell_type": "markdown",
   "id": "a61b4467",
   "metadata": {},
   "source": [
    "the middle value in a dataset when it's ordered from lowest to highest. It's less affected by outliers than the mean."
   ]
  },
  {
   "cell_type": "code",
   "execution_count": 13,
   "id": "8118b1c6",
   "metadata": {},
   "outputs": [
    {
     "data": {
      "text/plain": [
       "0    50.0\n",
       "dtype: float64"
      ]
     },
     "execution_count": 13,
     "metadata": {},
     "output_type": "execute_result"
    }
   ],
   "source": [
    "df.median() # here therefore median of the column is 50"
   ]
  },
  {
   "cell_type": "markdown",
   "id": "01a945df",
   "metadata": {},
   "source": [
    "# mode"
   ]
  },
  {
   "cell_type": "markdown",
   "id": "0ac1b671",
   "metadata": {},
   "source": [
    "The value that appears most frequently in a dataset."
   ]
  },
  {
   "cell_type": "code",
   "execution_count": 14,
   "id": "708b384b",
   "metadata": {},
   "outputs": [
    {
     "data": {
      "text/html": [
       "<div>\n",
       "<style scoped>\n",
       "    .dataframe tbody tr th:only-of-type {\n",
       "        vertical-align: middle;\n",
       "    }\n",
       "\n",
       "    .dataframe tbody tr th {\n",
       "        vertical-align: top;\n",
       "    }\n",
       "\n",
       "    .dataframe thead th {\n",
       "        text-align: right;\n",
       "    }\n",
       "</style>\n",
       "<table border=\"1\" class=\"dataframe\">\n",
       "  <thead>\n",
       "    <tr style=\"text-align: right;\">\n",
       "      <th></th>\n",
       "      <th>0</th>\n",
       "    </tr>\n",
       "  </thead>\n",
       "  <tbody>\n",
       "    <tr>\n",
       "      <th>0</th>\n",
       "      <td>50</td>\n",
       "    </tr>\n",
       "  </tbody>\n",
       "</table>\n",
       "</div>"
      ],
      "text/plain": [
       "    0\n",
       "0  50"
      ]
     },
     "execution_count": 14,
     "metadata": {},
     "output_type": "execute_result"
    }
   ],
   "source": [
    "df.mode() # 50 is repeated twice in the dataframe"
   ]
  },
  {
   "cell_type": "markdown",
   "id": "7590fbf4",
   "metadata": {},
   "source": [
    "# variance"
   ]
  },
  {
   "cell_type": "markdown",
   "id": "2a7bc61d",
   "metadata": {},
   "source": [
    "variance is the average of the squared differences from the mean."
   ]
  },
  {
   "cell_type": "code",
   "execution_count": 15,
   "id": "b09d102f",
   "metadata": {},
   "outputs": [
    {
     "data": {
      "text/plain": [
       "0    220.0\n",
       "dtype: float64"
      ]
     },
     "execution_count": 15,
     "metadata": {},
     "output_type": "execute_result"
    }
   ],
   "source": [
    "df.var() # it gives us the variance 220"
   ]
  },
  {
   "cell_type": "markdown",
   "id": "ca9f1c41",
   "metadata": {},
   "source": [
    "# standard deviation"
   ]
  },
  {
   "cell_type": "markdown",
   "id": "e285a813",
   "metadata": {},
   "source": [
    " A measure of the spread or dispersion of data points around the mean. A higher standard deviation indicates more variability.\n",
    " - or in another word it is square root of variance"
   ]
  },
  {
   "cell_type": "code",
   "execution_count": 19,
   "id": "e2de9771",
   "metadata": {},
   "outputs": [
    {
     "data": {
      "text/plain": [
       "0    14.832397\n",
       "dtype: float64"
      ]
     },
     "execution_count": 19,
     "metadata": {},
     "output_type": "execute_result"
    }
   ],
   "source": [
    "df.std() # here the standard deviation is 14.832397"
   ]
  },
  {
   "cell_type": "markdown",
   "id": "88dc5713",
   "metadata": {},
   "source": [
    "# percentiles"
   ]
  },
  {
   "cell_type": "markdown",
   "id": "6fb54d0e",
   "metadata": {},
   "source": [
    "it is commonly expressed as the percentage of values in a set of data scores that fall below a given value."
   ]
  },
  {
   "cell_type": "code",
   "execution_count": 22,
   "id": "5564a72c",
   "metadata": {},
   "outputs": [
    {
     "data": {
      "text/html": [
       "<div>\n",
       "<style scoped>\n",
       "    .dataframe tbody tr th:only-of-type {\n",
       "        vertical-align: middle;\n",
       "    }\n",
       "\n",
       "    .dataframe tbody tr th {\n",
       "        vertical-align: top;\n",
       "    }\n",
       "\n",
       "    .dataframe thead th {\n",
       "        text-align: right;\n",
       "    }\n",
       "</style>\n",
       "<table border=\"1\" class=\"dataframe\">\n",
       "  <thead>\n",
       "    <tr style=\"text-align: right;\">\n",
       "      <th></th>\n",
       "      <th>0</th>\n",
       "    </tr>\n",
       "  </thead>\n",
       "  <tbody>\n",
       "    <tr>\n",
       "      <th>count</th>\n",
       "      <td>5.000000</td>\n",
       "    </tr>\n",
       "    <tr>\n",
       "      <th>mean</th>\n",
       "      <td>48.000000</td>\n",
       "    </tr>\n",
       "    <tr>\n",
       "      <th>std</th>\n",
       "      <td>14.832397</td>\n",
       "    </tr>\n",
       "    <tr>\n",
       "      <th>min</th>\n",
       "      <td>30.000000</td>\n",
       "    </tr>\n",
       "    <tr>\n",
       "      <th>25%</th>\n",
       "      <td>40.000000</td>\n",
       "    </tr>\n",
       "    <tr>\n",
       "      <th>50%</th>\n",
       "      <td>50.000000</td>\n",
       "    </tr>\n",
       "    <tr>\n",
       "      <th>75%</th>\n",
       "      <td>50.000000</td>\n",
       "    </tr>\n",
       "    <tr>\n",
       "      <th>max</th>\n",
       "      <td>70.000000</td>\n",
       "    </tr>\n",
       "  </tbody>\n",
       "</table>\n",
       "</div>"
      ],
      "text/plain": [
       "               0\n",
       "count   5.000000\n",
       "mean   48.000000\n",
       "std    14.832397\n",
       "min    30.000000\n",
       "25%    40.000000\n",
       "50%    50.000000\n",
       "75%    50.000000\n",
       "max    70.000000"
      ]
     },
     "execution_count": 22,
     "metadata": {},
     "output_type": "execute_result"
    }
   ],
   "source": [
    "df.describe() # this method is useful for stastics"
   ]
  },
  {
   "cell_type": "markdown",
   "id": "c88c5f29",
   "metadata": {},
   "source": [
    "# skewness"
   ]
  },
  {
   "cell_type": "markdown",
   "id": "dc9326d5",
   "metadata": {},
   "source": [
    "- It quantifies the extent to which the-  data is skewed or shifted to one side\n",
    "- for symmetrical distribution of data .. the skewness is 0 because all measures of tendency lies in the middle\n",
    "- when the data is asymmetrical then skewness comes \n",
    "- a high level of skewness leads to misleading results \n",
    "- two types : 1.postive skewness 2.negative skewness\n",
    "- POSITIVE SKEWNESS (OR) RIGHT-SKEWED : \n",
    "- it has long right tail \n",
    "- mean > median > mode\n",
    "- For positively skewed distributions, the famous transformation is the log transformation. The log transformation proposes the calculations of the natural logarithm for each value in the dataset.\n",
    "- NEGATIVE SKEWNESS (OR) LEFT-SKEWED : \n",
    "- it has long left tail\n",
    "- mode > median > mean\n",
    "- Rule of thumb :\n",
    "- 1.If the skewness is between -0.5 & 0.5, the data are nearly symmetrical.\n",
    "- 2.If the skewness is between -1 & -0.5 (negative skewed) or between 0.5 & 1(positive skewed), the data are slightly skewed.\n",
    "- 3.If the skewness is lower than -1 (negative skewed) or greater than 1 (positive skewed), the data are extremely skewed."
   ]
  },
  {
   "cell_type": "code",
   "execution_count": 24,
   "id": "f95aa2a3",
   "metadata": {},
   "outputs": [
    {
     "data": {
      "text/plain": [
       "0    0.551618\n",
       "dtype: float64"
      ]
     },
     "execution_count": 24,
     "metadata": {},
     "output_type": "execute_result"
    }
   ],
   "source": [
    "df.skew() # it calculated skewness which lies between 0.5 which means data is symmetrical"
   ]
  },
  {
   "cell_type": "markdown",
   "id": "5ea92f51",
   "metadata": {},
   "source": [
    "# kurtosis "
   ]
  },
  {
   "cell_type": "markdown",
   "id": "30ca2459",
   "metadata": {},
   "source": [
    "- Kurtosis is a statistical measure that quantifies the shape of a probability distribution.\n",
    "- Kurtosis helps in analyzing the characteristics and outliers of a dataset.\n",
    "- Peakedness in a data distribution is the degree to which data values are concentrated around the mean.\n",
    "- Positive kurtosis indicates heavier tails and a more peaked distribution\n",
    "- while negative kurtosis suggests lighter tails and a flatter distribution. \n",
    "- datasets with high kurtosis tend to have outliers\n",
    "- datasets with low kurtosis tend to have no outliers\n",
    "- Excess kurtosis can be positive (Leptokurtic distribution),\n",
    "- negative (Platykurtic distribution), \n",
    "- or near zero (Mesokurtic distribution). \n",
    "- Since normal distributions have a kurtosis of 3, excess kurtosis is calculated by subtracting kurtosis by 3."
   ]
  },
  {
   "cell_type": "code",
   "execution_count": 26,
   "id": "90444598",
   "metadata": {},
   "outputs": [
    {
     "data": {
      "text/plain": [
       "0    0.867769\n",
       "dtype: float64"
      ]
     },
     "execution_count": 26,
     "metadata": {},
     "output_type": "execute_result"
    }
   ],
   "source": [
    "df.kurtosis() # our dataframe tend to have outliers"
   ]
  },
  {
   "cell_type": "markdown",
   "id": "6f775af7",
   "metadata": {},
   "source": [
    "# bar chart"
   ]
  },
  {
   "cell_type": "markdown",
   "id": "10e4926b",
   "metadata": {},
   "source": [
    "A Bar graph or a Histogram is the diagrammatic representation of data in statistics. In bar graphs or histograms, "
   ]
  },
  {
   "cell_type": "code",
   "execution_count": 37,
   "id": "dd1075b9",
   "metadata": {},
   "outputs": [
    {
     "data": {
      "text/plain": [
       "<BarContainer object of 6 artists>"
      ]
     },
     "execution_count": 37,
     "metadata": {},
     "output_type": "execute_result"
    },
    {
     "data": {
      "image/png": "[encoded data removed]",
      "text/plain": [
       "<Figure size 640x480 with 1 Axes>"
      ]
     },
     "metadata": {},
     "output_type": "display_data"
    }
   ],
   "source": [
    "import matplotlib.pyplot as plt\n",
    "x = ['raju','vinay','vivek','swamy','swapna','rudra'] # names of the student\n",
    "y = [98,60,77,86,92,83] # marks out of 100\n",
    "plt.bar(x,y,color='grey')"
   ]
  },
  {
   "cell_type": "markdown",
   "id": "7c1f2dbe",
   "metadata": {},
   "source": [
    "# scatter plot"
   ]
  },
  {
   "cell_type": "markdown",
   "id": "807662ef",
   "metadata": {},
   "source": [
    "Scatter plots are used to observe relationship between variables and uses dots to represent the relationship between them. "
   ]
  },
  {
   "cell_type": "code",
   "execution_count": 38,
   "id": "de3c7932",
   "metadata": {},
   "outputs": [
    {
     "data": {
      "text/plain": [
       "<matplotlib.collections.PathCollection at 0x2805d6bd840>"
      ]
     },
     "execution_count": 38,
     "metadata": {},
     "output_type": "execute_result"
    },
    {
     "data": {
      "image/png": "[encoded data removed]",
      "text/plain": [
       "<Figure size 640x480 with 1 Axes>"
      ]
     },
     "metadata": {},
     "output_type": "display_data"
    }
   ],
   "source": [
    "plt.scatter(x,y)"
   ]
  },
  {
   "cell_type": "markdown",
   "id": "74fa7fc4",
   "metadata": {},
   "source": [
    "# pie chart "
   ]
  },
  {
   "cell_type": "markdown",
   "id": "410a8cd3",
   "metadata": {},
   "source": [
    "A Pie Chart is a circular statistical plot that can display only one series of data. The area of the chart is the total percentage of the given data. The area of slices of the pie represents the percentage of the parts of the data. "
   ]
  },
  {
   "cell_type": "code",
   "execution_count": 40,
   "id": "518024b8",
   "metadata": {},
   "outputs": [
    {
     "data": {
      "text/plain": [
       "([<matplotlib.patches.Wedge at 0x2805fd4ece0>,\n",
       "  <matplotlib.patches.Wedge at 0x2805fd4ebf0>,\n",
       "  <matplotlib.patches.Wedge at 0x2805fd4f5b0>,\n",
       "  <matplotlib.patches.Wedge at 0x2805fd4fa30>,\n",
       "  <matplotlib.patches.Wedge at 0x2805fd4feb0>,\n",
       "  <matplotlib.patches.Wedge at 0x2805fd6c370>],\n",
       " [Text(0.894807221252769, 0.6397812413582459, 'raju'),\n",
       "  Text(-0.05571410977790774, 1.09858815666821, 'vinay'),\n",
       "  Text(-0.8741005333496328, 0.667793574091491, 'vivek'),\n",
       "  Text(-1.0215182945999544, -0.40804457329757615, 'swamy'),\n",
       "  Text(-0.06962582715236927, -1.0977942631446698, 'swapna'),\n",
       "  Text(0.9514646332215355, -0.5520100105329695, 'rudra')])"
      ]
     },
     "execution_count": 40,
     "metadata": {},
     "output_type": "execute_result"
    },
    {
     "data": {
      "image/png": "[encoded data removed]",
      "text/plain": [
       "<Figure size 640x480 with 1 Axes>"
      ]
     },
     "metadata": {},
     "output_type": "display_data"
    }
   ],
   "source": [
    "plt.pie(y,labels=x)"
   ]
  },
  {
   "cell_type": "markdown",
   "id": "2e04008f",
   "metadata": {},
   "source": [
    "# box plot"
   ]
  },
  {
   "cell_type": "markdown",
   "id": "8b3d4dea",
   "metadata": {},
   "source": [
    "A graphical representation that displays the median, quartiles, and potential outliers of a dataset."
   ]
  },
  {
   "cell_type": "code",
   "execution_count": 44,
   "id": "73d1286c",
   "metadata": {},
   "outputs": [
    {
     "data": {
      "text/plain": [
       "{'whiskers': [<matplotlib.lines.Line2D at 0x28061732950>,\n",
       "  <matplotlib.lines.Line2D at 0x28061732bf0>],\n",
       " 'caps': [<matplotlib.lines.Line2D at 0x28061732e90>,\n",
       "  <matplotlib.lines.Line2D at 0x280617330a0>],\n",
       " 'boxes': [<matplotlib.lines.Line2D at 0x280617326b0>],\n",
       " 'medians': [<matplotlib.lines.Line2D at 0x28061733340>],\n",
       " 'fliers': [<matplotlib.lines.Line2D at 0x280617335e0>],\n",
       " 'means': []}"
      ]
     },
     "execution_count": 44,
     "metadata": {},
     "output_type": "execute_result"
    },
    {
     "data": {
      "image/png": "[encoded data removed]",
      "text/plain": [
       "<Figure size 640x480 with 1 Axes>"
      ]
     },
     "metadata": {},
     "output_type": "display_data"
    }
   ],
   "source": [
    "plt.boxplot(y)"
   ]
  },
  {
   "cell_type": "markdown",
   "id": "0044ac33",
   "metadata": {},
   "source": [
    "# correlation"
   ]
  },
  {
   "cell_type": "markdown",
   "id": "27ab6fde",
   "metadata": {},
   "source": [
    "- it describes the realtionship between the variables \n",
    "- the correlation greater than 0.5 has a good relation ship between variables"
   ]
  },
  {
   "cell_type": "code",
   "execution_count": 46,
   "id": "964f4175",
   "metadata": {},
   "outputs": [
    {
     "data": {
      "text/html": [
       "<div>\n",
       "<style scoped>\n",
       "    .dataframe tbody tr th:only-of-type {\n",
       "        vertical-align: middle;\n",
       "    }\n",
       "\n",
       "    .dataframe tbody tr th {\n",
       "        vertical-align: top;\n",
       "    }\n",
       "\n",
       "    .dataframe thead th {\n",
       "        text-align: right;\n",
       "    }\n",
       "</style>\n",
       "<table border=\"1\" class=\"dataframe\">\n",
       "  <thead>\n",
       "    <tr style=\"text-align: right;\">\n",
       "      <th></th>\n",
       "      <th>0</th>\n",
       "    </tr>\n",
       "  </thead>\n",
       "  <tbody>\n",
       "    <tr>\n",
       "      <th>0</th>\n",
       "      <td>1.0</td>\n",
       "    </tr>\n",
       "  </tbody>\n",
       "</table>\n",
       "</div>"
      ],
      "text/plain": [
       "     0\n",
       "0  1.0"
      ]
     },
     "execution_count": 46,
     "metadata": {},
     "output_type": "execute_result"
    }
   ],
   "source": [
    "df.corr()"
   ]
  },
  {
   "cell_type": "code",
   "execution_count": null,
   "id": "70db0cc6",
   "metadata": {},
   "outputs": [],
   "source": []
  }
 ],
 "metadata": {
  "kernelspec": {
   "display_name": "Python 3 (ipykernel)",
   "language": "python",
   "name": "python3"
  },
  "language_info": {
   "codemirror_mode": {
    "name": "ipython",
    "version": 3
   },
   "file_extension": ".py",
   "mimetype": "text/x-python",
   "name": "python",
   "nbconvert_exporter": "python",
   "pygments_lexer": "ipython3",
   "version": "3.10.9"
  }
 },
 "nbformat": 4,
 "nbformat_minor": 5
}
